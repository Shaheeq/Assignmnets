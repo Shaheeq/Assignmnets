{
 "cells": [
  {
   "cell_type": "code",
   "execution_count": 6,
   "metadata": {},
   "outputs": [
    {
     "name": "stdout",
     "output_type": "stream",
     "text": [
      "Enter first value: 5\n",
      "Enter second value: 5\n",
      "Enter 1 to do addition :\n",
      "Enter 2 to do subtraction :\n",
      "Enter 3 to do multiplication :\n",
      "Enter 4 to do division :\n",
      "Enter 5 to do power: \n",
      "Enter your choice: 5\n",
      "Answer : 3125\n"
     ]
    }
   ],
   "source": [
    "#            TASK NUMBER 1\n",
    "num1 = int(input(\"Enter first value: \"))\n",
    "num2 = int(input(\"Enter second value: \"))\n",
    "\n",
    "print(\"Enter 1 to do addition :\")\n",
    "print(\"Enter 2 to do subtraction :\")\n",
    "print(\"Enter 3 to do multiplication :\")\n",
    "print(\"Enter 4 to do division :\")\n",
    "print(\"Enter 5 to do power: \")\n",
    "choice = int(input(\"Enter your choice: \"))\n",
    "\n",
    "if choice == 1:\n",
    "    ans = num1+num2\n",
    "elif choice == 2:\n",
    "    ans = num1-num2\n",
    "elif choice == 3:\n",
    "    ans = num1*num2\n",
    "elif choice == 4:\n",
    "    ans = num1/num2\n",
    "elif choice == 5:\n",
    "    ans = num1**num2\n",
    "    \n",
    "print(f\"Answer : {ans}\")\n",
    "\n"
   ]
  },
  {
   "cell_type": "code",
   "execution_count": 18,
   "metadata": {},
   "outputs": [
    {
     "name": "stdout",
     "output_type": "stream",
     "text": [
      "Numeric value found : 10\n",
      "Numeric value found : 2.0\n",
      "Numeric value found : 30\n"
     ]
    }
   ],
   "source": [
    "#            TASK NUMBER 2\n",
    "the_list = [\"PAKISTAN\",10,2.0,30,'CHINA']\n",
    "for value in the_list:\n",
    "    if type(value) == int or type(value) == float:\n",
    "        print(f\"Numeric value found : {value}\")\n",
    "        "
   ]
  },
  {
   "cell_type": "code",
   "execution_count": 30,
   "metadata": {},
   "outputs": [
    {
     "name": "stdout",
     "output_type": "stream",
     "text": [
      "{'a': 1, 'b': 2}\n",
      "{'a': 1, 'b': 2, 'c': 3}\n"
     ]
    }
   ],
   "source": [
    "#            TASK NUMBER 3\n",
    "d = {'a': 1, 'b': 2}\n",
    "print(d)\n",
    "d['a'] = 1\n",
    "d['b'] = 2  \n",
    "d['c'] = 3 # new key, so add\n",
    "print(d)"
   ]
  },
  {
   "cell_type": "code",
   "execution_count": 33,
   "metadata": {},
   "outputs": [
    {
     "name": "stdout",
     "output_type": "stream",
     "text": [
      "Sum = 36.5\n"
     ]
    }
   ],
   "source": [
    "#            TASK NUMBER 4\n",
    "result = 0\n",
    "dic = {1: 6 ,\n",
    "           2: \"Pakistan\", \n",
    "           3: 10.5, \n",
    "           4:\"China\",\n",
    "           5: 20}\n",
    "\n",
    "for value in dic.values():\n",
    "    if type(value) == int or type(value) == float:\n",
    "        result = result + value        \n",
    "        \n",
    "print(f\"Sum = {result}\")"
   ]
  },
  {
   "cell_type": "code",
   "execution_count": 36,
   "metadata": {},
   "outputs": [
    {
     "name": "stdout",
     "output_type": "stream",
     "text": [
      "Duplicated SHAHEEQ\n",
      "Duplicated SHAHEEQ\n",
      "Duplicated 9\n",
      "Duplicated 9\n",
      "Duplicated 6.3\n",
      "Duplicated 6.3\n"
     ]
    }
   ],
   "source": [
    "#            TASK NUMBER 5\n",
    "the_list = [\"SHAHEEQ\", \"SHAHEEQ\", 9, 9, 6.3, 6.3, 2, 3, 4, 5, 6]\n",
    "for value in the_list:\n",
    "    if  the_list.count(value) > 1:\n",
    "        print(f\"Duplicated {value}\")"
   ]
  },
  {
   "cell_type": "code",
   "execution_count": 41,
   "metadata": {},
   "outputs": [
    {
     "name": "stdout",
     "output_type": "stream",
     "text": [
      "3 Already exists\n"
     ]
    }
   ],
   "source": [
    "#            TASK NUMBER 6\n",
    "dic = { 1: \"key1\",\n",
    "            2: \"key2\",\n",
    "            3: \"key3\"}\n",
    "\n",
    "given_key = 3\n",
    "\n",
    "for key in dic.keys():\n",
    "    if key == given_key:\n",
    "        print(f\"{given_key} Already exists\")"
   ]
  },
  {
   "cell_type": "code",
   "execution_count": null,
   "metadata": {},
   "outputs": [],
   "source": []
  }
 ],
 "metadata": {
  "kernelspec": {
   "display_name": "Python 3",
   "language": "python",
   "name": "python3"
  },
  "language_info": {
   "codemirror_mode": {
    "name": "ipython",
    "version": 3
   },
   "file_extension": ".py",
   "mimetype": "text/x-python",
   "name": "python",
   "nbconvert_exporter": "python",
   "pygments_lexer": "ipython3",
   "version": "3.7.4"
  }
 },
 "nbformat": 4,
 "nbformat_minor": 2
}