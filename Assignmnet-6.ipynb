{
 "cells": [
  {
   "cell_type": "code",
   "execution_count": null,
   "metadata": {},
   "outputs": [],
   "source": [
    "# Question 1:\n",
    "# Define Object Oriented Programming Language?\n",
    "Object-oriented programming (OOP) refers to a type of computer programming (software design) in which programmers \n",
    "define not only the data type of a data structure, but also the types of operations (functions) that can be applied \n",
    "to the data structure."
   ]
  },
  {
   "cell_type": "code",
   "execution_count": null,
   "metadata": {},
   "outputs": [],
   "source": [
    "# Question 2:\n",
    "# List down the Benefits of OOP?\n",
    "1. Modularity for easier troubleshooting\n",
    "2. Reuse of code through inheritance\n",
    "3. Flexibility through polymorphism\n",
    "4. Effective problem solving\n",
    "5. Code Maintenance\n",
    "6. Better productivity"
   ]
  },
  {
   "cell_type": "code",
   "execution_count": null,
   "metadata": {},
   "outputs": [],
   "source": [
    "# Question 3:\n",
    "# Differentiate between function and method?\n",
    "\n",
    "A function is a piece of code usually written in the scope of global code or in a function itself(nested functions).\n",
    "We have to call a function by it's name explicitly and if needed we have to pass the parameters too.\n",
    "On the other hand, A method is defined inside an object's or class's definition. We can accesss this object by the name\n",
    "of the class or the object and we don't have to pass parameters explicitly."
   ]
  },
  {
   "cell_type": "code",
   "execution_count": null,
   "metadata": {},
   "outputs": [],
   "source": [
    "# Question 4:\n",
    "# Define the following terms:\n",
    "# 1. Class\n",
    "# 2. Object\n",
    "# 3. Attribute\n",
    "# 4. Behavior\n",
    "CLASS :     A class is a user defined datatype that programmers use to create other objects of any given class's type.\n",
    "            With class we can set any initial values and attributes for all the other objects that are going to be \n",
    "            created in future from the given class.\n",
    "\n",
    "OBJECT :    It is represented by attributes of an object. It also reflects the properties of an object.\n",
    "    \n",
    "ATTRIBUTE : Attributes are the individual things that differentiate one object from another and determine the appearance,\n",
    "            state, or other qualities of that object. Let's create a theoretical class called Motorcycle. \n",
    "            A motorcycle class might include the following attributes and have these typical values:    \n",
    "\n",
    "BEHAVIOR :  It is represented by methods of an object. It also reflects the response of an object with other objects."
   ]
  },
  {
   "cell_type": "code",
   "execution_count": 4,
   "metadata": {},
   "outputs": [
    {
     "name": "stdout",
     "output_type": "stream",
     "text": [
      "Cultus Suzuki 2010 Blue 2\n",
      "Wagon R is stopped.\n",
      "Civic is now being driven.\n"
     ]
    }
   ],
   "source": [
    "# Question 5:\n",
    "# Write a code in python in which create a class named it Car which\n",
    "# have 5 attributes such like (model, color and name etc.) and 3\n",
    "# methods. And create 5 object instance from that class.\n",
    "\n",
    "class Car:\n",
    "    def __init__(self, name, brand, model, color, doors):\n",
    "        self.name = name\n",
    "        self.brand = brand\n",
    "        self.model = model\n",
    "        self.color =  color\n",
    "        self.doors = doors\n",
    "    def printCar(self):\n",
    "        print(self.name,self.brand, self.model, self.color, self.doors)\n",
    "    def drive(self):\n",
    "        print(self.name, \"is now being driven.\")\n",
    "    def stop(self):\n",
    "        print(self.name, \"is stopped.\")\n",
    "car1 = Car(\"Alto\", \"Suzuki\", \"2009\", \"White\", 4)\n",
    "car2 = Car(\"Cultus\", \"Suzuki\", \"2010\", \"Blue\", 2)\n",
    "car3 = Car(\"Civic\", \"Honda\", \"2011\", \"Green\", 4)\n",
    "car4 = Car(\"Corolla\", \"Toyota\", \"2012\", \"Red\", 2)\n",
    "car5 = Car(\"Wagon R\", \"Suzuki\", \"2019\", \"Gray\", 4)\n",
    "car2.printCar()\n",
    "car5.stop()\n",
    "car3.drive()"
   ]
  },
  {
   "cell_type": "code",
   "execution_count": null,
   "metadata": {},
   "outputs": [],
   "source": []
  }
 ],
 "metadata": {
  "kernelspec": {
   "display_name": "Python 3",
   "language": "python",
   "name": "python3"
  },
  "language_info": {
   "codemirror_mode": {
    "name": "ipython",
    "version": 3
   },
   "file_extension": ".py",
   "mimetype": "text/x-python",
   "name": "python",
   "nbconvert_exporter": "python",
   "pygments_lexer": "ipython3",
   "version": "3.7.4"
  }
 },
 "nbformat": 4,
 "nbformat_minor": 2
}
