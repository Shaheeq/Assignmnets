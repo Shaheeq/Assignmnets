{
 "cells": [
  {
   "cell_type": "code",
   "execution_count": 1,
   "metadata": {},
   "outputs": [
    {
     "name": "stdout",
     "output_type": "stream",
     "text": [
      "     Twinkle, twinkle, little star,\n",
      "           How I wonder what you are!\n",
      "                 Up above the world so high,\n",
      "                 Like a diamond in the sky.\n",
      "     Twinkle, twinkle, little star,\n",
      "           How I wonder what you are\n"
     ]
    }
   ],
   "source": [
    "                                             #Task No.1\n",
    "a=(\"     \")+(\"Twinkle, twinkle, little star,\")\n",
    "print(a)\n",
    "b=(\"           \")+(\"How I wonder what you are!\")\n",
    "print(b)\n",
    "c=(\"                 \")+(\"Up above the world so high,\")\n",
    "print(c)\n",
    "d=(\"                 \")+(\"Like a diamond in the sky.\")\n",
    "print(d)\n",
    "e=(\"     \")+(\"Twinkle, twinkle, little star,\")\n",
    "print(e)\n",
    "f=(\"           \")+(\"How I wonder what you are\")\n",
    "print(f)"
   ]
  },
  {
   "cell_type": "code",
   "execution_count": 2,
   "metadata": {},
   "outputs": [
    {
     "name": "stdout",
     "output_type": "stream",
     "text": [
      "3.7.4 (default, Aug  9 2019, 18:34:13) [MSC v.1915 64 bit (AMD64)]\n"
     ]
    }
   ],
   "source": [
    "                                           #Task No.2\n",
    "import sys\n",
    "print(sys.version)"
   ]
  },
  {
   "cell_type": "code",
   "execution_count": 3,
   "metadata": {},
   "outputs": [
    {
     "name": "stdout",
     "output_type": "stream",
     "text": [
      "Current date and time : \n",
      "2019-11-21 23:53:09\n"
     ]
    }
   ],
   "source": [
    "                           #Task No.3\n",
    "import datetime\n",
    "now = datetime.datetime.now()\n",
    "print (\"Current date and time : \")\n",
    "print (now.strftime(\"%Y-%m-%d %H:%M:%S\"))"
   ]
  },
  {
   "cell_type": "code",
   "execution_count": 2,
   "metadata": {},
   "outputs": [
    {
     "name": "stdout",
     "output_type": "stream",
     "text": [
      "Area of Rectangle\n",
      "Enter The Radius5\n",
      "78.5\n"
     ]
    }
   ],
   "source": [
    "                                           #Task No.4\n",
    "print(\"Area of Rectangle\")\n",
    "r=int(input(\"Enter The Radius\"))\n",
    "pi=3.14\n",
    "area=pi*r*r\n",
    "print(area)"
   ]
  },
  {
   "cell_type": "code",
   "execution_count": 6,
   "metadata": {},
   "outputs": [
    {
     "name": "stdout",
     "output_type": "stream",
     "text": [
      "Gates Bill\n"
     ]
    }
   ],
   "source": [
    "                                            #Task No.5\n",
    "first_name = \"Bill\"\n",
    "last_name = \"Gates\"\n",
    "full_name = last_name + \" \" + first_name\n",
    "print(full_name)\n"
   ]
  },
  {
   "cell_type": "code",
   "execution_count": 1,
   "metadata": {},
   "outputs": [
    {
     "name": "stdout",
     "output_type": "stream",
     "text": [
      "Please Enter The First Value 10\n",
      "Please Enter The Second Value 10\n",
      "20\n"
     ]
    }
   ],
   "source": [
    "                                           #Task No.6\n",
    "a = int(input(\"Please Enter The First Value \"))\n",
    "b = int(input(\"Please Enter The Second Value \"))\n",
    "c = a + b \n",
    "print(c)"
   ]
  },
  {
   "cell_type": "code",
   "execution_count": null,
   "metadata": {},
   "outputs": [],
   "source": []
  }
 ],
 "metadata": {
  "kernelspec": {
   "display_name": "Python 3",
   "language": "python",
   "name": "python3"
  },
  "language_info": {
   "codemirror_mode": {
    "name": "ipython",
    "version": 3
   },
   "file_extension": ".py",
   "mimetype": "text/x-python",
   "name": "python",
   "nbconvert_exporter": "python",
   "pygments_lexer": "ipython3",
   "version": "3.7.4"
  }
 },
 "nbformat": 4,
 "nbformat_minor": 2
}
