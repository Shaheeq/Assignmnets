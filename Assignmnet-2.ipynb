{
 "cells": [
  {
   "cell_type": "code",
   "execution_count": 10,
   "metadata": {},
   "outputs": [
    {
     "name": "stdout",
     "output_type": "stream",
     "text": [
      "English Marks  55\n",
      "Urdu Marks  67\n",
      "Physics Marks  74\n",
      "Chemistry Marks  83\n",
      "Maths Marks  44\n",
      "Mark Obtained 323\n",
      "Pass B Grade\n"
     ]
    }
   ],
   "source": [
    "#            TASK NUMBER 1\n",
    "English = int(input(\"English Marks  \"))\n",
    "Urdu = int(input(\"Urdu Marks  \"))\n",
    "Physics = int(input(\"Physics Marks  \"))\n",
    "Chemistry = int(input(\"Chemistry Marks  \"))\n",
    "Maths = int(input(\"Maths Marks  \"))\n",
    "Total = English + Urdu + Physics + Chemistry + Maths\n",
    "print (\"Mark Obtained\",Total)\n",
    "if Total >= 400 and Total < 500 :\n",
    "     print(\"Pass A+ Grade\")  \n",
    "elif Total >= 350 and Total < 399 :\n",
    " print(\"Pass A Grade\")\n",
    "elif Total >= 300 and Total < 349 :\n",
    " print(\"Pass B Grade\")\n",
    "elif Total >= 250 and Total < 299 :\n",
    " print(\"Pass C Grade\")\n",
    "elif Total >= 200 and Total < 249 :\n",
    " print(\"Pass D Grade\")\n",
    "else  :\n",
    " print(\"Fail\")"
   ]
  },
  {
   "cell_type": "code",
   "execution_count": 11,
   "metadata": {},
   "outputs": [
    {
     "name": "stdout",
     "output_type": "stream",
     "text": [
      "Enter a number: 41\n",
      "41 is Odd number\n"
     ]
    }
   ],
   "source": [
    "#            TASK NUMBER 2\n",
    "num = int(input(\"Enter a number: \"))  \n",
    "if (num % 2) == 0:  \n",
    "   print(\"{0} is Even number\".format(num))  \n",
    "else:  \n",
    "   print(\"{0} is Odd number\".format(num)) "
   ]
  },
  {
   "cell_type": "code",
   "execution_count": 12,
   "metadata": {},
   "outputs": [
    {
     "name": "stdout",
     "output_type": "stream",
     "text": [
      "Length of List is  4\n"
     ]
    }
   ],
   "source": [
    "#            TASK NUMBER 3\n",
    "a = ['Pakistan'],['India'],['USA'],['UAE']\n",
    "print(\"Length of List is \",len(a))"
   ]
  },
  {
   "cell_type": "code",
   "execution_count": 5,
   "metadata": {},
   "outputs": [
    {
     "name": "stdout",
     "output_type": "stream",
     "text": [
      "Sum of all elements in given list:  74\n"
     ]
    }
   ],
   "source": [
    "#            TASK NUMBER 4\n",
    "list1 = [11, 5, 17, 18, 23] \n",
    "total = sum(list1) \n",
    "print(\"Sum of all elements in given list: \", total) "
   ]
  },
  {
   "cell_type": "code",
   "execution_count": 13,
   "metadata": {},
   "outputs": [
    {
     "name": "stdout",
     "output_type": "stream",
     "text": [
      "Largest element is: 1000\n"
     ]
    }
   ],
   "source": [
    "#            TASK NUMBER 5\n",
    "list1 = [10, 20, 4, 45, 99, 1000] \n",
    "list1.sort() \n",
    "print(\"Largest element is:\", list1[-1]) "
   ]
  },
  {
   "cell_type": "code",
   "execution_count": 14,
   "metadata": {},
   "outputs": [
    {
     "name": "stdout",
     "output_type": "stream",
     "text": [
      "1\n",
      "1\n",
      "2\n",
      "3\n"
     ]
    }
   ],
   "source": [
    "#            TASK NUMBER 6\n",
    "a = [1, 1, 2, 3, 5, 8, 13, 21, 34, 55, 89]\n",
    "\n",
    "for x in a:\n",
    "\tif x < 5:\n",
    "\t\tprint (x)"
   ]
  },
  {
   "cell_type": "code",
   "execution_count": null,
   "metadata": {},
   "outputs": [],
   "source": []
  }
 ],
 "metadata": {
  "kernelspec": {
   "display_name": "Python 3",
   "language": "python",
   "name": "python3"
  },
  "language_info": {
   "codemirror_mode": {
    "name": "ipython",
    "version": 3
   },
   "file_extension": ".py",
   "mimetype": "text/x-python",
   "name": "python",
   "nbconvert_exporter": "python",
   "pygments_lexer": "ipython3",
   "version": "3.7.4"
  }
 },
 "nbformat": 4,
 "nbformat_minor": 2
}
